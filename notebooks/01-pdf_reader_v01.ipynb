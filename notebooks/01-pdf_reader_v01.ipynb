{
 "cells": [
  {
   "cell_type": "markdown",
   "metadata": {},
   "source": [
    "# PDF Reader v01"
   ]
  },
  {
   "cell_type": "markdown",
   "metadata": {},
   "source": [
    " "
   ]
  },
  {
   "cell_type": "markdown",
   "metadata": {},
   "source": [
    "## imports"
   ]
  },
  {
   "cell_type": "code",
   "execution_count": 14,
   "metadata": {},
   "outputs": [],
   "source": [
    "%load_ext lab_black"
   ]
  },
  {
   "cell_type": "code",
   "execution_count": 75,
   "metadata": {},
   "outputs": [],
   "source": [
    "import os\n",
    "import re\n",
    "import numpy as np\n",
    "import pandas as pd\n",
    "import spacy\n",
    "\n",
    "from glob import glob\n",
    "from pdfminer.high_level import extract_text\n",
    "\n",
    "# ignore warning\n",
    "import warnings\n",
    "\n",
    "warnings.filterwarnings(action=\"ignore\")"
   ]
  },
  {
   "cell_type": "code",
   "execution_count": 40,
   "metadata": {},
   "outputs": [],
   "source": [
    "nlp = spacy.load(\"en_core_web_sm\")\n",
    "\n",
    "# doc = nlp(\"Apples and oranges are similar. Boots and hippos aren't.\")\n",
    "\n",
    "# for token in doc:\n",
    "#     print(token, token.lemma, token.lemma_, token.pos_)"
   ]
  },
  {
   "cell_type": "markdown",
   "metadata": {},
   "source": [
    " "
   ]
  },
  {
   "cell_type": "markdown",
   "metadata": {},
   "source": [
    "## 01. Data Load"
   ]
  },
  {
   "cell_type": "code",
   "execution_count": 19,
   "metadata": {},
   "outputs": [],
   "source": [
    "dir_path = \"../data/en\"\n",
    "file_list = glob(f\"{dir_path}/*.pdf\")"
   ]
  },
  {
   "cell_type": "markdown",
   "metadata": {},
   "source": [
    " "
   ]
  },
  {
   "cell_type": "markdown",
   "metadata": {},
   "source": [
    "## 02. Preprocessing"
   ]
  },
  {
   "cell_type": "code",
   "execution_count": 104,
   "metadata": {},
   "outputs": [],
   "source": [
    "def clean_text(text):\n",
    "    \"\"\"기사 내용 전처리 함수\n",
    "    Args:\n",
    "        - text: str 형태의 텍스트\n",
    "    Return:\n",
    "        - text: 전처리된 텍스트\"\"\"\n",
    "    # Common\n",
    "    # 개행문자 제거\n",
    "    text = re.sub(\"\\n\", \" \", text)\n",
    "    text = re.sub(\"\\v\", \" \", text)\n",
    "    text = re.sub(\"\\f\", \" \", text)\n",
    "    # E-mail 제거#\n",
    "    text = re.sub(\"([\\w\\d.]+@[\\w\\d.]+)\", \"\", text)\n",
    "    text = re.sub(\"([\\w\\d.]+@)\", \"\", text)\n",
    "    # 괄호 안 제거#\n",
    "    text = re.sub(\"<[\\w\\s\\d‘’=/·~:&,`]+>\", \"\", text)\n",
    "    text = re.sub(\"\\([\\w\\s\\d‘’=/·~:&,`]+\\)\", \"\", text)\n",
    "    text = re.sub(\"\\[[\\w\\s\\d‘’=/·~:&,`]+\\]\", \"\", text)\n",
    "    text = re.sub(\"【[\\w\\s\\d‘’=/·~:&,`]+】\", \"\", text)\n",
    "    # 전화번호 제거#\n",
    "    text = re.sub(\"(\\d{2,3})-(\\d{3,4}-\\d{4})\", \"\", text)  # 전화번호\n",
    "    text = re.sub(\"(\\d{3,4}-\\d{4})\", \"\", text)  # 전화번호\n",
    "    # 홈페이지 주소 제거#\n",
    "    text = re.sub(\"(www.\\w.+)\", \"\", text)\n",
    "    text = re.sub(\"(.\\w+.com)\", \"\", text)\n",
    "    text = re.sub(\"(.\\w+.co.kr)\", \"\", text)\n",
    "    text = re.sub(\"(.\\w+.go.kr)\", \"\", text)\n",
    "    # 기자 이름 제거#\n",
    "    text = re.sub(\"/\\w+[=·\\w@]+\\w+\\s[=·\\w@]+\", \"\", text)\n",
    "    text = re.sub(\"\\w{2,4}\\s기자\", \"\", text)\n",
    "    # 한자 제거#\n",
    "    text = re.sub(\"[\\u2E80-\\u2EFF\\u3400-\\u4DBF\\u4E00-\\u9FBF\\uF900]+\", \"\", text)\n",
    "    # 특수기호 제거#\n",
    "    text = re.sub(\"[◇#/▶▲◆■●△①②③★○◎▽=▷☞◀ⓒ□?㈜♠☎]\", \"\", text)\n",
    "    # 따옴표 제거#\n",
    "    text = re.sub(\"[\\\"'”“‘’]\", \"\", text)\n",
    "    # 2안_숫자제거#\n",
    "    # text = regex.sub('[0-9]+',\"\",text)\n",
    "    text = \" \".join(text.split())\n",
    "    return text"
   ]
  },
  {
   "cell_type": "markdown",
   "metadata": {},
   "source": [
    " "
   ]
  },
  {
   "cell_type": "markdown",
   "metadata": {},
   "source": [
    "## 03. Extract Text from PDF"
   ]
  },
  {
   "cell_type": "markdown",
   "metadata": {},
   "source": [
    "### 1) Sentence Split & Text Cleaning"
   ]
  },
  {
   "cell_type": "code",
   "execution_count": 105,
   "metadata": {},
   "outputs": [],
   "source": [
    "# sentences = []\n",
    "# doc = nlp(text)\n",
    "# for sentence in doc.sents:\n",
    "#     sentences.append(sentence.text)\n",
    "\n",
    "# sentences = [clean_text(sent) for sent in sentences]\n",
    "# sent_lens = [len(sent) for sent in sentences]\n",
    "\n",
    "# avg_len = np.mean(sent_lens)\n",
    "# sentences2 = [sent for sent in sentences if len(sent) > avg_len]\n",
    "# # sentences2"
   ]
  },
  {
   "cell_type": "markdown",
   "metadata": {},
   "source": [
    " "
   ]
  },
  {
   "cell_type": "markdown",
   "metadata": {},
   "source": [
    "### 2) create function"
   ]
  },
  {
   "cell_type": "code",
   "execution_count": 106,
   "metadata": {},
   "outputs": [],
   "source": [
    "def get_sentences(text):\n",
    "    # 1. sentence split\n",
    "    doc = nlp(text)\n",
    "    sentences = [sent.text for sent in doc.sents]\n",
    "    # 2. text cleaning\n",
    "    sentences = [clean_text(sent) for sent in sentences]\n",
    "    avg_sent_len = np.mean([len(sent) for sent in sentences])\n",
    "\n",
    "    # 3. extract sentences\n",
    "    sentences = [sent for sent in sentences if len(sent) > avg_sent_len]\n",
    "    return sentences"
   ]
  },
  {
   "cell_type": "code",
   "execution_count": 107,
   "metadata": {},
   "outputs": [],
   "source": [
    "sample = file_list[5]\n",
    "text = extract_text(sample)"
   ]
  },
  {
   "cell_type": "code",
   "execution_count": 108,
   "metadata": {},
   "outputs": [],
   "source": [
    "sents = get_sentences(text)"
   ]
  },
  {
   "cell_type": "code",
   "execution_count": 110,
   "metadata": {},
   "outputs": [
    {
     "data": {
      "text/plain": [
       "['The 5G era New horizons for advanced electronics andpanies Contents Executive summary Introduction',\n",
       " 'A comprehensive view of the 5G value proposition Archetypes of 5G IoT use cases',\n",
       " 'Companies poised to win Myth versus reality in 5G IoT value capture 2',\n",
       " 'Private-network opportunities 4 Opportunities for advancedpanies and industrials',\n",
       " 'The 5G IoT module market The 5Gponent market 5 Strategic implications for advancedpanies and industrials']"
      ]
     },
     "execution_count": 110,
     "metadata": {},
     "output_type": "execute_result"
    }
   ],
   "source": [
    "sents[:5]"
   ]
  },
  {
   "cell_type": "code",
   "execution_count": null,
   "metadata": {},
   "outputs": [],
   "source": []
  }
 ],
 "metadata": {
  "kernelspec": {
   "display_name": "PyTorch",
   "language": "python",
   "name": "pytorch"
  },
  "language_info": {
   "codemirror_mode": {
    "name": "ipython",
    "version": 3
   },
   "file_extension": ".py",
   "mimetype": "text/x-python",
   "name": "python",
   "nbconvert_exporter": "python",
   "pygments_lexer": "ipython3",
   "version": "3.6.10"
  }
 },
 "nbformat": 4,
 "nbformat_minor": 4
}
