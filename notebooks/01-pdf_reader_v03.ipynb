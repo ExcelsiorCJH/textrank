{
 "cells": [
  {
   "cell_type": "markdown",
   "metadata": {},
   "source": [
    "# PDF Reader v03"
   ]
  },
  {
   "cell_type": "markdown",
   "metadata": {},
   "source": [
    " "
   ]
  },
  {
   "cell_type": "markdown",
   "metadata": {},
   "source": [
    "## imports"
   ]
  },
  {
   "cell_type": "code",
   "execution_count": 3,
   "metadata": {},
   "outputs": [],
   "source": [
    "%load_ext lab_black"
   ]
  },
  {
   "cell_type": "code",
   "execution_count": 4,
   "metadata": {},
   "outputs": [],
   "source": [
    "import sys\n",
    "\n",
    "sys.path.append(\"..\")"
   ]
  },
  {
   "cell_type": "code",
   "execution_count": 5,
   "metadata": {},
   "outputs": [],
   "source": [
    "import os\n",
    "import re\n",
    "import numpy as np\n",
    "import pandas as pd\n",
    "import spacy\n",
    "\n",
    "from glob import glob\n",
    "from utils import pdf_to_text\n",
    "from types_ import *\n",
    "\n",
    "# ignore warning\n",
    "import warnings\n",
    "\n",
    "warnings.filterwarnings(action=\"ignore\")"
   ]
  },
  {
   "cell_type": "code",
   "execution_count": 6,
   "metadata": {},
   "outputs": [],
   "source": [
    "nlp = spacy.load(\"en_core_web_sm\")"
   ]
  },
  {
   "cell_type": "markdown",
   "metadata": {},
   "source": [
    " "
   ]
  },
  {
   "cell_type": "markdown",
   "metadata": {},
   "source": [
    "## 01. Data Load"
   ]
  },
  {
   "cell_type": "code",
   "execution_count": 7,
   "metadata": {},
   "outputs": [],
   "source": [
    "dir_path = \"../data/en\"\n",
    "file_list = glob(f\"{dir_path}/*.pdf\")"
   ]
  },
  {
   "cell_type": "markdown",
   "metadata": {},
   "source": [
    "## 02. Extract Text from PDF"
   ]
  },
  {
   "cell_type": "code",
   "execution_count": 8,
   "metadata": {},
   "outputs": [
    {
     "name": "stdout",
     "output_type": "stream",
     "text": [
      "CPU times: user 1.23 s, sys: 76.7 ms, total: 1.31 s\n",
      "Wall time: 1.31 s\n"
     ]
    }
   ],
   "source": [
    "%%time\n",
    "\n",
    "sample = file_list[2]\n",
    "sents = pdf_to_text(sample)"
   ]
  },
  {
   "cell_type": "code",
   "execution_count": 9,
   "metadata": {},
   "outputs": [
    {
     "data": {
      "text/plain": [
       "182"
      ]
     },
     "execution_count": 9,
     "metadata": {},
     "output_type": "execute_result"
    }
   ],
   "source": [
    "len(sents)"
   ]
  },
  {
   "cell_type": "markdown",
   "metadata": {},
   "source": [
    " "
   ]
  },
  {
   "cell_type": "markdown",
   "metadata": {},
   "source": [
    "## 03. Summarization using gensim"
   ]
  },
  {
   "cell_type": "code",
   "execution_count": 10,
   "metadata": {},
   "outputs": [],
   "source": [
    "from gensim.summarization.summarizer import summarize\n",
    "from gensim.summarization import keywords\n",
    "\n",
    "from pprint import pprint"
   ]
  },
  {
   "cell_type": "code",
   "execution_count": 11,
   "metadata": {},
   "outputs": [],
   "source": [
    "text = \" \".join(sents)\n",
    "summary = summarize(text, split=True)\n",
    "words = keywords(text, split=True, lemmatize=True)"
   ]
  },
  {
   "cell_type": "code",
   "execution_count": 12,
   "metadata": {},
   "outputs": [],
   "source": [
    "# print(sample)"
   ]
  },
  {
   "cell_type": "code",
   "execution_count": 13,
   "metadata": {},
   "outputs": [
    {
     "name": "stdout",
     "output_type": "stream",
     "text": [
      "['Is your intelligent digital workforce secure against cyberattacks HOW TO PROTECT THE RPA AND AI WORKFORCE FIVE FOCUS AREAS FOR RISKS AND CONTROLS The direct impacts of such attacks, which are especially hard to detect, can be colossal for banks and insurance companies, potentially leading to punitive fines for regulatorypliance, compromising operations and reducing consumer trust.', 'To unlock the potential of AI and RPA, and reduce the related cyber risks, Chief Security Officers, Heads of AI and their teams should introduce appropriate security governance frameworks, and bake a security risk assessment into each automation value case definition early in the lifecycle.', 'Companies across the financial services industry are harnessing the transformational power of Intelligent Automation by embracing Robotic These disruptive technologies are radically redefining companies operations and reinventing the way they interact with customers.', 'Ongoing advances in RPA and AI are creating new opportunitiespanies to capture operating cost reductions of 45% - 65% while increasing productivity gains by up to 75%.1 Benefits on such a scale have generated rapid take-up across virtually all sectors: Everest Group estimates that there are now 2.5 million attended robots and 0.8 million unattended robots executing processes However, like any other emerging technology, RPA and AI have particular security vulnerabilities that can be exploited by malicious actors.', 'With cyberattacks on the rise and the cyber criminals scaling up their operations, it is not surprising that malicious actors are also equipped with increasingly sophisticated technologies seeking to gain access to under-protected systems.']\n"
     ]
    }
   ],
   "source": [
    "print(summary[:5])"
   ]
  },
  {
   "cell_type": "code",
   "execution_count": 14,
   "metadata": {},
   "outputs": [
    {
     "name": "stdout",
     "output_type": "stream",
     "text": [
      "['secured',\n",
      " 'data',\n",
      " 'technological',\n",
      " 'attacker',\n",
      " 'risk',\n",
      " 'accentures',\n",
      " 'process',\n",
      " 'models',\n",
      " 'rpa',\n",
      " 'systems']\n"
     ]
    }
   ],
   "source": [
    "pprint(words[:10])"
   ]
  },
  {
   "cell_type": "code",
   "execution_count": null,
   "metadata": {},
   "outputs": [],
   "source": []
  }
 ],
 "metadata": {
  "kernelspec": {
   "display_name": "PyTorch",
   "language": "python",
   "name": "pytorch"
  },
  "language_info": {
   "codemirror_mode": {
    "name": "ipython",
    "version": 3
   },
   "file_extension": ".py",
   "mimetype": "text/x-python",
   "name": "python",
   "nbconvert_exporter": "python",
   "pygments_lexer": "ipython3",
   "version": "3.6.10"
  }
 },
 "nbformat": 4,
 "nbformat_minor": 4
}
