{
 "cells": [
  {
   "cell_type": "markdown",
   "metadata": {},
   "source": [
    "# PDF Reader v02"
   ]
  },
  {
   "cell_type": "markdown",
   "metadata": {},
   "source": [
    " "
   ]
  },
  {
   "cell_type": "markdown",
   "metadata": {},
   "source": [
    "## imports"
   ]
  },
  {
   "cell_type": "code",
   "execution_count": 1,
   "metadata": {},
   "outputs": [],
   "source": [
    "%load_ext lab_black"
   ]
  },
  {
   "cell_type": "code",
   "execution_count": 6,
   "metadata": {},
   "outputs": [],
   "source": [
    "import sys\n",
    "\n",
    "sys.path.append(\"..\")"
   ]
  },
  {
   "cell_type": "code",
   "execution_count": 11,
   "metadata": {},
   "outputs": [],
   "source": [
    "import os\n",
    "import re\n",
    "import numpy as np\n",
    "import pandas as pd\n",
    "import spacy\n",
    "\n",
    "from glob import glob\n",
    "from pdfminer.high_level import extract_text\n",
    "from types_ import *\n",
    "\n",
    "# ignore warning\n",
    "import warnings\n",
    "\n",
    "warnings.filterwarnings(action=\"ignore\")"
   ]
  },
  {
   "cell_type": "code",
   "execution_count": 8,
   "metadata": {},
   "outputs": [],
   "source": [
    "nlp = spacy.load(\"en_core_web_sm\")"
   ]
  },
  {
   "cell_type": "markdown",
   "metadata": {},
   "source": [
    " "
   ]
  },
  {
   "cell_type": "markdown",
   "metadata": {},
   "source": [
    "## 01. Data Load"
   ]
  },
  {
   "cell_type": "code",
   "execution_count": 21,
   "metadata": {},
   "outputs": [],
   "source": [
    "dir_path = \"../data/en\"\n",
    "file_list = glob(f\"{dir_path}/*.pdf\")"
   ]
  },
  {
   "cell_type": "markdown",
   "metadata": {},
   "source": [
    " "
   ]
  },
  {
   "cell_type": "markdown",
   "metadata": {},
   "source": [
    "## 02. Preprocessing"
   ]
  },
  {
   "cell_type": "code",
   "execution_count": 16,
   "metadata": {},
   "outputs": [],
   "source": [
    "def clean_text(text):\n",
    "    \"\"\"기사 내용 전처리 함수\n",
    "    Args:\n",
    "        - text: str 형태의 텍스트\n",
    "    Return:\n",
    "        - text: 전처리된 텍스트\"\"\"\n",
    "    # Common\n",
    "    # 개행문자 제거\n",
    "    text = re.sub(\"\\n\", \" \", text)\n",
    "    text = re.sub(\"\\v\", \" \", text)\n",
    "    text = re.sub(\"\\f\", \" \", text)\n",
    "    # E-mail 제거#\n",
    "    text = re.sub(\"([\\w\\d.]+@[\\w\\d.]+)\", \"\", text)\n",
    "    text = re.sub(\"([\\w\\d.]+@)\", \"\", text)\n",
    "    # 괄호 안 제거#\n",
    "    text = re.sub(\"<[\\w\\s\\d‘’=/·~:&,`]+>\", \"\", text)\n",
    "    text = re.sub(\"\\([\\w\\s\\d‘’=/·~:&,`]+\\)\", \"\", text)\n",
    "    text = re.sub(\"\\[[\\w\\s\\d‘’=/·~:&,`]+\\]\", \"\", text)\n",
    "    text = re.sub(\"【[\\w\\s\\d‘’=/·~:&,`]+】\", \"\", text)\n",
    "    # 전화번호 제거#\n",
    "    text = re.sub(\"(\\d{2,3})-(\\d{3,4}-\\d{4})\", \"\", text)  # 전화번호\n",
    "    text = re.sub(\"(\\d{3,4}-\\d{4})\", \"\", text)  # 전화번호\n",
    "    # 홈페이지 주소 제거#\n",
    "    text = re.sub(\"(www.\\w.+)\", \"\", text)\n",
    "    text = re.sub(\"(.\\w+.com)\", \"\", text)\n",
    "    text = re.sub(\"(.\\w+.co.kr)\", \"\", text)\n",
    "    text = re.sub(\"(.\\w+.go.kr)\", \"\", text)\n",
    "    # 기자 이름 제거#\n",
    "    text = re.sub(\"/\\w+[=·\\w@]+\\w+\\s[=·\\w@]+\", \"\", text)\n",
    "    text = re.sub(\"\\w{2,4}\\s기자\", \"\", text)\n",
    "    # 한자 제거#\n",
    "    text = re.sub(\"[\\u2E80-\\u2EFF\\u3400-\\u4DBF\\u4E00-\\u9FBF\\uF900]+\", \"\", text)\n",
    "    # 특수기호 제거#\n",
    "    text = re.sub(\"[◇#/▶▲◆■●△①②③★○◎▽=▷☞◀ⓒ□?㈜♠☎]\", \"\", text)\n",
    "    # 따옴표 제거#\n",
    "    text = re.sub(\"[\\\"'”“‘’]\", \"\", text)\n",
    "    # 2안_숫자제거#\n",
    "    # text = regex.sub('[0-9]+',\"\",text)\n",
    "    text = \" \".join(text.split())\n",
    "    return text"
   ]
  },
  {
   "cell_type": "markdown",
   "metadata": {},
   "source": [
    " "
   ]
  },
  {
   "cell_type": "markdown",
   "metadata": {},
   "source": [
    "## 03. Extract Text from PDF"
   ]
  },
  {
   "cell_type": "code",
   "execution_count": 17,
   "metadata": {},
   "outputs": [],
   "source": [
    "def pdf_to_text(file_path: str) -> List[str]:\n",
    "    # 1. pdf -> text\n",
    "    text = extract_text(file_path)\n",
    "    # 2. sentence split\n",
    "    doc = nlp(text)\n",
    "    sentences = [sent.text for sent in doc.sents]\n",
    "    # 3. text cleaning\n",
    "    sentences = [clean_text(sent) for sent in sentences]\n",
    "    avg_sent_len = np.mean([len(sent) for sent in sentences])\n",
    "\n",
    "    # 3. extract sentences\n",
    "    sentences = [sent for sent in sentences if len(sent) > avg_sent_len]\n",
    "    return sentences"
   ]
  },
  {
   "cell_type": "code",
   "execution_count": 28,
   "metadata": {},
   "outputs": [
    {
     "name": "stdout",
     "output_type": "stream",
     "text": [
      "CPU times: user 1.16 s, sys: 2.27 ms, total: 1.16 s\n",
      "Wall time: 1.16 s\n"
     ]
    }
   ],
   "source": [
    "%%time\n",
    "\n",
    "sample = file_list[2]\n",
    "sents = pdf_to_text(sample)"
   ]
  },
  {
   "cell_type": "code",
   "execution_count": 29,
   "metadata": {},
   "outputs": [
    {
     "data": {
      "text/plain": [
       "182"
      ]
     },
     "execution_count": 29,
     "metadata": {},
     "output_type": "execute_result"
    }
   ],
   "source": [
    "len(sents)"
   ]
  },
  {
   "cell_type": "code",
   "execution_count": null,
   "metadata": {},
   "outputs": [],
   "source": []
  }
 ],
 "metadata": {
  "kernelspec": {
   "display_name": "PyTorch",
   "language": "python",
   "name": "pytorch"
  },
  "language_info": {
   "codemirror_mode": {
    "name": "ipython",
    "version": 3
   },
   "file_extension": ".py",
   "mimetype": "text/x-python",
   "name": "python",
   "nbconvert_exporter": "python",
   "pygments_lexer": "ipython3",
   "version": "3.6.10"
  }
 },
 "nbformat": 4,
 "nbformat_minor": 4
}
