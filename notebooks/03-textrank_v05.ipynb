{
 "cells": [
  {
   "cell_type": "markdown",
   "metadata": {},
   "source": [
    "# Test Textrank Class"
   ]
  },
  {
   "cell_type": "markdown",
   "metadata": {},
   "source": [
    " "
   ]
  },
  {
   "cell_type": "markdown",
   "metadata": {},
   "source": [
    "## 00. imports"
   ]
  },
  {
   "cell_type": "code",
   "execution_count": 1,
   "metadata": {},
   "outputs": [],
   "source": [
    "# black formatting\n",
    "%load_ext lab_black"
   ]
  },
  {
   "cell_type": "code",
   "execution_count": 2,
   "metadata": {},
   "outputs": [],
   "source": [
    "import sys\n",
    "\n",
    "sys.path.append(\"..\")"
   ]
  },
  {
   "cell_type": "code",
   "execution_count": 3,
   "metadata": {},
   "outputs": [],
   "source": [
    "import os\n",
    "import re\n",
    "import numpy as np\n",
    "import pandas as pd\n",
    "import spacy\n",
    "\n",
    "from glob import glob\n",
    "from nltk.corpus import stopwords\n",
    "\n",
    "from textrank import TextRank\n",
    "\n",
    "from utils import pdf_to_text\n",
    "from types_ import *\n",
    "\n",
    "# ignore warning\n",
    "import warnings\n",
    "\n",
    "warnings.filterwarnings(action=\"ignore\")"
   ]
  },
  {
   "cell_type": "code",
   "execution_count": null,
   "metadata": {},
   "outputs": [],
   "source": []
  },
  {
   "cell_type": "markdown",
   "metadata": {},
   "source": [
    "## 01. TextRank"
   ]
  },
  {
   "cell_type": "markdown",
   "metadata": {},
   "source": [
    "### 1) data load"
   ]
  },
  {
   "cell_type": "code",
   "execution_count": 4,
   "metadata": {},
   "outputs": [],
   "source": [
    "# ko\n",
    "# with open(\"./sents.txt\", \"r\") as f:\n",
    "#     sents = f.read().split(\"\\n\")"
   ]
  },
  {
   "cell_type": "code",
   "execution_count": 5,
   "metadata": {},
   "outputs": [],
   "source": [
    "dir_path = \"../data/en\"\n",
    "file_list = glob(f\"{dir_path}/*.pdf\")"
   ]
  },
  {
   "cell_type": "markdown",
   "metadata": {},
   "source": [
    "### 2) Extract Text from PDF"
   ]
  },
  {
   "cell_type": "code",
   "execution_count": 6,
   "metadata": {},
   "outputs": [
    {
     "name": "stdout",
     "output_type": "stream",
     "text": [
      "CPU times: user 1.24 s, sys: 83 ms, total: 1.32 s\n",
      "Wall time: 1.32 s\n"
     ]
    }
   ],
   "source": [
    "%%time\n",
    "\n",
    "sample = file_list[2]\n",
    "sents = pdf_to_text(sample)"
   ]
  },
  {
   "cell_type": "code",
   "execution_count": 7,
   "metadata": {},
   "outputs": [
    {
     "data": {
      "text/plain": [
       "['Is your intelligent digital workforce secure against cyberattacks',\n",
       " 'HOW TO PROTECT THE RPA AND AI WORKFORCE FIVE FOCUS AREAS FOR RISKS AND CONTROLS']"
      ]
     },
     "execution_count": 7,
     "metadata": {},
     "output_type": "execute_result"
    }
   ],
   "source": [
    "sents[:2]"
   ]
  },
  {
   "cell_type": "markdown",
   "metadata": {},
   "source": [
    " "
   ]
  },
  {
   "cell_type": "markdown",
   "metadata": {},
   "source": [
    "### 2) Summarization"
   ]
  },
  {
   "cell_type": "code",
   "execution_count": 8,
   "metadata": {},
   "outputs": [],
   "source": [
    "# stopwords = [\"연합뉴스\", \"기자\", \"서울\", \"뉴스\", \"오후\"]\n",
    "stopwords = stopwords.words(\"english\")\n",
    "\n",
    "textrank = TextRank(\n",
    "    language=\"en\", tokenizer=None, stopwords=stopwords, method=\"algebraic\"\n",
    ")"
   ]
  },
  {
   "cell_type": "code",
   "execution_count": 12,
   "metadata": {},
   "outputs": [],
   "source": [
    "keysents = textrank.summarize(sents, topk=10)"
   ]
  },
  {
   "cell_type": "code",
   "execution_count": 13,
   "metadata": {},
   "outputs": [],
   "source": [
    "keysents = [sent for _, sent in keysents]"
   ]
  },
  {
   "cell_type": "code",
   "execution_count": 14,
   "metadata": {},
   "outputs": [
    {
     "data": {
      "text/plain": [
       "['Access credentials To operate critical processes, robots are given the sign-on access credentials required for privileged users.',\n",
       " 'These credentials are often stored in a centralized location, where one security breach can lead to many user credentials being stolen.',\n",
       " 'identify, protect, detect and respond, and recover which are derived from the NIST cyber security frameworks core functions.',\n",
       " 'As cyber criminals lookpromise the latest technologies, it is important to subject security processes to regular reviews.',\n",
       " 'With cyber criminals scaling up their operations with everplex and innovative models—',\n",
       " 'Figure 4 identifies security controls pertaining to the use of AI and RPA solutions.',\n",
       " 'Set up a dedicated process to provision and request access rights to the virtual workforce and grant access only to the minimum data required.',\n",
       " 'Extreme But Plausible Threat Scenarios in Financial Services, Accenture, 2019.',\n",
       " 'The Next Step for Artificial Intelligence in Financial Services, Accenture, 2019.',\n",
       " 'Cyber attacks on financial services sector rise fivefold in 2018, Financial Times, February 25, 2019.']"
      ]
     },
     "execution_count": 14,
     "metadata": {},
     "output_type": "execute_result"
    }
   ],
   "source": [
    "keysents"
   ]
  },
  {
   "cell_type": "markdown",
   "metadata": {},
   "source": [
    " "
   ]
  },
  {
   "cell_type": "markdown",
   "metadata": {},
   "source": [
    "### 3) KeyWords"
   ]
  },
  {
   "cell_type": "code",
   "execution_count": 17,
   "metadata": {},
   "outputs": [],
   "source": [
    "keywords = textrank.keywords(sents, topk=20)"
   ]
  },
  {
   "cell_type": "code",
   "execution_count": 18,
   "metadata": {},
   "outputs": [
    {
     "data": {
      "text/plain": [
       "['available',\n",
       " 'million',\n",
       " 'neural',\n",
       " 'plex',\n",
       " 'accuracy',\n",
       " 'imperative',\n",
       " 'main',\n",
       " 'engine',\n",
       " 'definition',\n",
       " 'certain',\n",
       " 'standard',\n",
       " 'strategy',\n",
       " 'asset',\n",
       " 'prevention',\n",
       " 'operational',\n",
       " 'algorithm',\n",
       " 'advice',\n",
       " 'experience',\n",
       " 'loss',\n",
       " 'case']"
      ]
     },
     "execution_count": 18,
     "metadata": {},
     "output_type": "execute_result"
    }
   ],
   "source": [
    "keywords"
   ]
  },
  {
   "cell_type": "code",
   "execution_count": null,
   "metadata": {},
   "outputs": [],
   "source": []
  }
 ],
 "metadata": {
  "kernelspec": {
   "display_name": "PyTorch",
   "language": "python",
   "name": "pytorch"
  },
  "language_info": {
   "codemirror_mode": {
    "name": "ipython",
    "version": 3
   },
   "file_extension": ".py",
   "mimetype": "text/x-python",
   "name": "python",
   "nbconvert_exporter": "python",
   "pygments_lexer": "ipython3",
   "version": "3.6.10"
  }
 },
 "nbformat": 4,
 "nbformat_minor": 4
}
