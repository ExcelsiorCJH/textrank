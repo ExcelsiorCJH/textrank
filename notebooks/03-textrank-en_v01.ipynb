{
 "cells": [
  {
   "cell_type": "markdown",
   "metadata": {},
   "source": [
    "# TextRank EN v01"
   ]
  },
  {
   "cell_type": "markdown",
   "metadata": {},
   "source": [
    " "
   ]
  },
  {
   "cell_type": "markdown",
   "metadata": {},
   "source": [
    "## imports"
   ]
  },
  {
   "cell_type": "code",
   "execution_count": 1,
   "metadata": {},
   "outputs": [],
   "source": [
    "%load_ext lab_black"
   ]
  },
  {
   "cell_type": "code",
   "execution_count": 2,
   "metadata": {},
   "outputs": [],
   "source": [
    "import sys\n",
    "\n",
    "sys.path.append(\"..\")"
   ]
  },
  {
   "cell_type": "code",
   "execution_count": 24,
   "metadata": {},
   "outputs": [],
   "source": [
    "import os\n",
    "import re\n",
    "import numpy as np\n",
    "import pandas as pd\n",
    "import spacy\n",
    "\n",
    "from glob import glob\n",
    "from nltk.corpus import stopwords\n",
    "from sklearn.feature_extraction.text import TfidfVectorizer\n",
    "\n",
    "from utils import pdf_to_text\n",
    "from types_ import *\n",
    "\n",
    "# ignore warning\n",
    "import warnings\n",
    "\n",
    "warnings.filterwarnings(action=\"ignore\")"
   ]
  },
  {
   "cell_type": "code",
   "execution_count": 4,
   "metadata": {},
   "outputs": [],
   "source": [
    "nlp = spacy.load(\"en_core_web_sm\")"
   ]
  },
  {
   "cell_type": "markdown",
   "metadata": {},
   "source": [
    " "
   ]
  },
  {
   "cell_type": "markdown",
   "metadata": {},
   "source": [
    "## 01. Data Load"
   ]
  },
  {
   "cell_type": "code",
   "execution_count": 5,
   "metadata": {},
   "outputs": [],
   "source": [
    "dir_path = \"../data/en\"\n",
    "file_list = glob(f\"{dir_path}/*.pdf\")"
   ]
  },
  {
   "cell_type": "markdown",
   "metadata": {},
   "source": [
    "## 02. Extract Text from PDF"
   ]
  },
  {
   "cell_type": "code",
   "execution_count": 6,
   "metadata": {},
   "outputs": [
    {
     "name": "stdout",
     "output_type": "stream",
     "text": [
      "CPU times: user 1.25 s, sys: 51.4 ms, total: 1.31 s\n",
      "Wall time: 1.35 s\n"
     ]
    }
   ],
   "source": [
    "%%time\n",
    "\n",
    "sample = file_list[2]\n",
    "sents = pdf_to_text(sample)"
   ]
  },
  {
   "cell_type": "code",
   "execution_count": 7,
   "metadata": {},
   "outputs": [
    {
     "data": {
      "text/plain": [
       "182"
      ]
     },
     "execution_count": 7,
     "metadata": {},
     "output_type": "execute_result"
    }
   ],
   "source": [
    "len(sents)"
   ]
  },
  {
   "cell_type": "markdown",
   "metadata": {},
   "source": [
    " "
   ]
  },
  {
   "cell_type": "markdown",
   "metadata": {},
   "source": [
    "## 03. Summarization using Spacy"
   ]
  },
  {
   "cell_type": "code",
   "execution_count": 18,
   "metadata": {},
   "outputs": [],
   "source": [
    "doc = nlp(sents[0])"
   ]
  },
  {
   "cell_type": "code",
   "execution_count": 21,
   "metadata": {},
   "outputs": [
    {
     "name": "stdout",
     "output_type": "stream",
     "text": [
      "Is AUX\n",
      "your DET\n",
      "intelligent ADJ\n",
      "digital ADJ\n",
      "workforce NOUN\n",
      "secure ADJ\n",
      "against ADP\n",
      "cyberattacks NOUN\n"
     ]
    }
   ],
   "source": [
    "for token in doc:\n",
    "    print(token, token.pos_)"
   ]
  },
  {
   "cell_type": "code",
   "execution_count": 28,
   "metadata": {},
   "outputs": [],
   "source": [
    "class LemmaTokenizer(object):\n",
    "    def __init__(self, use_pos=False):\n",
    "        self.spacynlp = spacy.load(\"en_core_web_sm\")\n",
    "        self.pos_filter = False\n",
    "        if use_pos:\n",
    "            self.pos_filter = [\"NOUN\", \"ADJ\"]\n",
    "\n",
    "    def __call__(self, doc):\n",
    "        nlpdoc = self.spacynlp(doc)\n",
    "        if self.pos_filter:\n",
    "            nlpdoc = [\n",
    "                token.lemma_\n",
    "                for token in nlpdoc\n",
    "                if ((len(token.lemma_) > 1) or (token.lemma_.isalnum()))\n",
    "                and (token.pos_ in self.pos_filter)\n",
    "            ]\n",
    "        else:\n",
    "            nlpdoc = [\n",
    "                token.lemma_\n",
    "                for token in nlpdoc\n",
    "                if (len(token.lemma_) > 1) or (token.lemma_.isalnum())\n",
    "            ]\n",
    "        return nlpdoc"
   ]
  },
  {
   "cell_type": "code",
   "execution_count": 25,
   "metadata": {},
   "outputs": [],
   "source": [
    "stopwords = stopwords.words(\"english\")\n",
    "stopwords += [\",\", \"-\", \":\", \";\", \"!\", \"?\", \"'\", '\"']"
   ]
  },
  {
   "cell_type": "code",
   "execution_count": 29,
   "metadata": {},
   "outputs": [
    {
     "name": "stdout",
     "output_type": "stream",
     "text": [
      "{'intelligent': 259, 'digital': 154, 'workforce': 575, 'secure': 459, 'cyberattack': 129, 'focus': 205, 'area': 36, 'risk': 442, 'control': 111, 'direct': 155, 'impact': 235, 'attack': 45, 'hard': 225, 'colossal': 92, 'bank': 61, 'insurance': 255, 'company': 94, 'punitive': 410, 'fine': 203, 'regulatorypliance': 424, 'operation': 346, 'consumer': 108, 'trust': 546, 'high': 227, 'cost': 114, 'security': 460, 'incident': 240, 'adoption': 11, 'new': 332, 'technology': 519, 'general': 214, 'loss': 300, 'confidence': 99, 'key': 272, 'senior': 462, 'stakeholder': 488, 'potential': 382, 'related': 425, 'cyber': 128, 'chief': 85, 'officer': 341, 'head': 226, 'team': 517, 'appropriate': 35, 'governance': 218, 'framework': 206, 'assessment': 41, 'automation': 52, 'value': 560, 'case': 77, 'definition': 140, 'lifecycle': 290, 'nature': 328, 'vulnerability': 568, 'standard': 489, 'software': 477, 'implementation': 237, 'different': 152, 'approach': 34, 'paper': 359, 'financial': 201, 'service': 466, 'industry': 244, 'transformational': 543, 'power': 383, 'robotic': 444, 'disruptive': 159, 'way': 569, 'customer': 126, 'ongoing': 343, 'advance': 12, 'opportunitiespanie': 348, 'operating': 345, 'reduction': 420, 'productivity': 401, 'gain': 212, 'benefit': 65, 'scale': 453, 'rapid': 415, 'sector': 458, 'group': 220, 'attended': 47, 'robot': 443, 'unattended': 548, 'process': 397, 'particular': 361, 'malicious': 305, 'actor': 9, 'rise': 441, 'criminal': 121, 'surprising': 507, 'sophisticated': 479, 'access': 2, 'system': 511, 'business': 73, 'program': 403, 'accenture': 1, 'number': 339, 'gap': 213, 'point': 376, 'example': 185, 'fraud': 207, 'detection': 148, 'model': 322, 'anomaly': 30, 'claim': 87, 'natural': 327, 'language': 275, 'processing': 398, 'engine': 172, 'tool': 535, 'information': 246, 'various': 561, 'management': 306, 'severity': 469, 'internal': 260, 'policy': 378, 'human': 230, 'intervention': 263, 'decision': 137, 'authorization': 51, 'player': 374, 'andpetitive': 27, 'advantage': 14, 'technological': 518, 'innovation': 249, 'vital': 566, 'role': 448, 'toe': 533, 'efficient': 166, 'thepanie': 525, 'broad': 70, 'spectrum': 484, 'capability': 74, 'plex': 375, 'manual': 309, 'end': 171, 'integrated': 256, 'auditor': 50, 'uploads': 556, 'evidence': 183, 'investigator': 267, 'quality': 412, 'assurance': 44, 'sample': 452, 'bot': 67, 'investigation': 266, 'step': 492, 'payment': 363, 'million': 315, 'previous': 389, 'nlp': 335, 'similar': 473, 'fraudulent': 208, 'empowered': 169, 'autonomous': 53, 'many': 310, 'large': 276, 'insight': 252, 'andmendation': 26, 'organization': 350, 'core': 113, 'application': 33, 'sensitive': 463, 'datum': 136, 'attractive': 48, 'target': 513, 'critical': 122, 'important': 239, 'activity': 8, 'logic': 297, 'major': 303, 'irreversible': 269, 'damage': 131, 'destabilization': 145, 'credential': 118, 'sign': 470, 'privileged': 393, 'user': 559, 'centralized': 79, 'location': 295, 'breach': 69, 'data': 133, 'science': 455, 'project': 404, 'accuracy': 4, 'coverage': 117, 'subject': 496, 'significant': 472, 'set': 467, 'toplex': 537, 'training': 540, 'production': 400, 'development': 149, 'environment': 175, 'unmasked': 553, 'anonymized': 31, 'execution': 186, 'log': 296, 'temporary': 520, 'file': 199, 'source': 480, 'pany': 358, 'proprietary': 405, 'unauthorized': 549, 'distribution': 160, 'confidential': 101, 'respondent': 434, 'increase': 241, 'cybersecurity': 130, 'last': 277, 'year': 577, 'budget': 71, 'advanced': 13, 'f': 193, 'indirect': 242, 'weak': 570, 'link': 293, 'supply': 503, 'chain': 81, 'lack': 274, 'visibility': 564, 'difficult': 153, 'error': 178, 'self': 461, 'rule': 450, 'result': 438, 'intruder': 265, 'spend': 486, 'awareness': 58, 'experience': 187, 'procedure': 396, 'specific': 483, 'solution': 478, 'surface': 506, 'exploitation': 189, 'mon': 323, 'individual': 243, 'weakness': 571, 'strategy': 494, 'prevention': 388, 'resolution': 432, 'fact': 194, 'successful': 498, 'due': 164, 'tobination': 531, 'several': 468, 'factor': 195, 'little': 294, 'supervision': 501, 'none': 337, 'malfunction': 304, 'mistake': 320, 'long': 298, 'time': 529, 'visible': 565, 'downstream': 163, 'performance': 365, 'feedback': 197, 'financialpanie': 202, 'use': 558, 'neural': 330, 'network': 329, 'taxonomy': 516, 'neuron': 331, 'complex': 95, 'problem': 395, 'speed': 485, 'ability': 0, 'price': 390, 'superior': 500, 'poor': 379, 'traceability': 538, 'detail': 146, 'recent': 417, 'difference': 151, 'degree': 141, 'leakage': 281, 'average': 56, 'undetected': 552, 'machine': 301, 'learning': 282, 'hole': 228, 'hacker': 223, 'robotsmand': 445, 'denial': 143, 'multiple': 325, 'account': 3, 'attacker': 46, 'code': 91, 'script': 457, 'algorithm': 24, 'small': 475, 'amount': 25, 'computing': 97, 'available': 55, 'open': 344, 'common': 93, 'transfer': 542, 'dangerous': 132, 'library': 287, 'publisher': 409, 'limited': 292, 'liability': 286, 'content': 110, 'usage': 557, 'unverified': 555, 'institution': 254, 'background': 60, 'implication': 238, 'table': 512, 'page': 357, 'box': 68, 'behavior': 63, 'manipulation': 307, 'poisoning': 377, 'type': 547, 'aim': 22, 'minor': 317, 'prediction': 385, 'inefficiency': 245, 'introduction': 264, 'trigger': 545, 'weight': 572, 'layer': 280, 'overall': 354, 'unchanged': 550, 'input': 251, 'certain': 80, 'signal': 471, 'volume': 567, 'repetitive': 428, 'task': 514, 'action': 7, 'customer-': 127, 'staff': 487, 'additional': 10, 'product': 399, 'credit': 120, 'card': 76, 'equity': 177, 'eligibility': 168, 'screening': 456, 'requirement': 430, 'image': 234, 'document': 161, 'classification': 88, 'category': 78, 'item': 270, 'party': 362, 'legal': 284, 'check': 84, 'invoice': 268, 'adverse': 16, 'medium': 313, 'presence': 387, 'generation': 215, 'munication': 326, 'client': 90, 'instance': 253, 'norm': 338, 'disable': 157, 'alert': 23, 'mechanism': 312, 'sensitivity': 464, 'characteristic': 83, 'noise': 336, 'misclassification': 318, 'text': 524, 'possession': 380, 'explainability': 188, 'guaranteeing': 222, 'favorablee': 196, 'priority': 391, 'concern': 98, 'strain': 493, 'place': 371, 'constant': 105, 'evolution': 184, 'holistic': 229, 'regular': 421, 'review': 439, 'iterative': 271, 'part': 360, 'figure': 198, 'overview': 356, 'confidentiality': 102, 'integrity': 257, 'availability': 54, 'function': 210, 'protection': 406, 'consistent': 104, 'keyponent': 273, 'recover': 418, 'nist': 334, 'assessingponent': 40, 'imperative': 236, 'main': 302, 'pillar': 369, 'theponent': 526, 'assist': 43, 'understanding': 551, 'people': 364, 'asset': 42, 'detect': 147, 'andponent': 28, 'event': 180, 'timely': 530, 'manner': 308, 'discovery': 158, 'containment': 109, 'organizational': 351, 'mission': 319, 'responsibility': 435, 'objective': 340, 'regulatory': 423, 'environmental': 176, 'operational': 347, 'effect': 165, 'everyday': 182, 'restoration': 437, 'constraint': 106, 'tolerance': 534, 'safeguard': 451, 'question': 413, 'full': 209, 'sure': 505, 'confident': 100, 'lesson': 285, 'future': 211, 'identity': 233, 'exposure': 190, 'protective': 407, 'ai': 21, 'red': 419, 'flag': 204, 'late': 278, 'mitigating': 321, 'pivotal': 370, 'oversight': 355, 'arrangement': 37, 'infrastructure': 248, 'server': 465, 'good': 217, 'practice': 384, 'reliability': 427, 'dependent': 144, 'order': 349, 'identifiable': 231, 'privacy': 392, 'applicable': 32, 'regulation': 422, 'today': 532, 'dataputational': 135, 'resource': 433, 'least': 283, 'everplex': 181, 'innovative': 250, 'social': 476, 'engineering': 173, 'phishing': 368, 'right': 440, 'culture': 124, 'identifie': 232, 'robust': 446, 'third': 527, 'relevant': 426, 'compliance': 96, 'vault': 562, 'output': 353, 'database': 134, 'platform': 372, 'encryption': 170, 'outlier': 352, 'matter': 311, 'specialist': 481, 'credibility': 119, 'dedicated': 138, 'provision': 408, 'virtual': 563, 'minimum': 316, 'possible': 381, 'transparent': 544, 'interpretable': 261, 'clear': 89, 'method': 314, 'block': 66, 'switching': 510, 'adversarial': 15, 'perturbation': 366, 'building': 72, 'preferred': 386, 'train': 539, 'controller': 112, 'proactive': 394, 'device': 150, 'suspicious': 508, 'loop': 299, 'escalation': 179, 'transaction': 541, 'beneficial': 64, 'handle': 224, 'audit': 49, 'basis': 62, 'stress': 495, 'testing': 523, 'defense': 139, 'scenario': 454, 'robustness': 447, 'advisable': 18, 'granular': 219, 'state': 490, 'change': 82, 'final': 200, 'aspect': 39, 'consideration': 103, 'likely': 291, 'support': 504, 'sufficient': 499, 'capacity': 75, 'effort': 167, 'phase': 367, 'criticality': 123, 'tempting': 521, 'monitoring': 324, 'supervisor': 502, 'work': 574, 'subordinate': 497, 'whene': 573, 'aware': 57, 'test': 522, 'room': 449, 'growth': 221, 'agenda': 20, 'enterprise': 174, 'double': 162, 'b': 59, 'extreme': 192, 'plausible': 373, 'threat': 528, 'annual': 29, 'resilience': 431, 'next': 333, 'artificial': 38, 'intelligence': 258, 'statistic': 491, 'director': 156, 'advisory': 19, 'global': 216, 'professional': 402, 'range': 414, 'consulting': 107, 'unmatched': 554, 'specialized': 482, 'skill': 474, 'world': 576, 'delivery': 142, 'intersection': 262, 'sustainable': 509, 'country': 116, 'life': 289, 'informational': 247, 'purpose': 411, 'reader': 416, 'circumstance': 86, 'current': 125, 'extent': 191, 'law': 279, 'accuracypleteness': 5, 'act': 6, 'omission': 342, 'tax': 515, 'advice': 17, 'responsible': 436, 'counsel': 115, 'licensed': 288, 'topic': 536, 'representative': 429}\n"
     ]
    }
   ],
   "source": [
    "vect = TfidfVectorizer(tokenizer=LemmaTokenizer(use_pos=True), stop_words=stopwords)\n",
    "vect.fit(sents)\n",
    "print(vect.vocabulary_)"
   ]
  },
  {
   "cell_type": "code",
   "execution_count": null,
   "metadata": {},
   "outputs": [],
   "source": []
  }
 ],
 "metadata": {
  "kernelspec": {
   "display_name": "PyTorch",
   "language": "python",
   "name": "pytorch"
  },
  "language_info": {
   "codemirror_mode": {
    "name": "ipython",
    "version": 3
   },
   "file_extension": ".py",
   "mimetype": "text/x-python",
   "name": "python",
   "nbconvert_exporter": "python",
   "pygments_lexer": "ipython3",
   "version": "3.6.10"
  }
 },
 "nbformat": 4,
 "nbformat_minor": 4
}
