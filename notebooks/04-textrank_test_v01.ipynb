{
 "cells": [
  {
   "cell_type": "markdown",
   "metadata": {},
   "source": [
    "# TextRank Test v01"
   ]
  },
  {
   "cell_type": "markdown",
   "metadata": {},
   "source": [
    " "
   ]
  },
  {
   "cell_type": "markdown",
   "metadata": {},
   "source": [
    "## imports"
   ]
  },
  {
   "cell_type": "code",
   "execution_count": 1,
   "metadata": {},
   "outputs": [],
   "source": [
    "# %load_ext lab_black"
   ]
  },
  {
   "cell_type": "code",
   "execution_count": 2,
   "metadata": {},
   "outputs": [],
   "source": [
    "import sys\n",
    "\n",
    "sys.path.append(\"..\")"
   ]
  },
  {
   "cell_type": "code",
   "execution_count": 3,
   "metadata": {},
   "outputs": [],
   "source": [
    "import os\n",
    "import re\n",
    "import nltk\n",
    "import numpy as np\n",
    "import pandas as pd\n",
    "import spacy\n",
    "\n",
    "from glob import glob\n",
    "\n",
    "from textrank import TextRank\n",
    "\n",
    "from utils import pdf_to_text\n",
    "from types_ import *\n",
    "\n",
    "# ignore warning\n",
    "import warnings\n",
    "\n",
    "warnings.filterwarnings(action=\"ignore\")"
   ]
  },
  {
   "cell_type": "code",
   "execution_count": 1,
   "metadata": {},
   "outputs": [],
   "source": []
  },
  {
   "cell_type": "markdown",
   "metadata": {},
   "source": [
    " "
   ]
  },
  {
   "cell_type": "markdown",
   "metadata": {},
   "source": [
    "## Data Load"
   ]
  },
  {
   "cell_type": "code",
   "execution_count": 4,
   "metadata": {},
   "outputs": [],
   "source": [
    "dir_path = \"../data/en\"\n",
    "file_list = glob(f\"{dir_path}/*.pdf\")"
   ]
  },
  {
   "cell_type": "code",
   "execution_count": 7,
   "metadata": {},
   "outputs": [],
   "source": [
    "# file_list"
   ]
  },
  {
   "cell_type": "code",
   "execution_count": 5,
   "metadata": {},
   "outputs": [],
   "source": [
    "# choose sample randomly\n",
    "# idx = np.random.randint(0, len(file_list))\n",
    "idx = 2\n",
    "\n",
    "# Extract Text from PDF\n",
    "sample = file_list[idx]\n",
    "sents = pdf_to_text(sample)"
   ]
  },
  {
   "cell_type": "code",
   "execution_count": null,
   "metadata": {},
   "outputs": [],
   "source": []
  },
  {
   "cell_type": "code",
   "execution_count": 18,
   "metadata": {},
   "outputs": [],
   "source": [
    "# check sentences\n",
    "# sents[:2]"
   ]
  },
  {
   "cell_type": "markdown",
   "metadata": {},
   "source": [
    " "
   ]
  },
  {
   "cell_type": "markdown",
   "metadata": {},
   "source": [
    "## TextRank"
   ]
  },
  {
   "cell_type": "code",
   "execution_count": 8,
   "metadata": {},
   "outputs": [],
   "source": [
    "# stopwords = [\"연합뉴스\", \"기자\", \"서울\", \"뉴스\", \"오후\"]\n",
    "stopwords = nltk.corpus.stopwords.words(\"english\")\n",
    "\n",
    "textrank = TextRank(language=\"en\", tokenizer=None, stopwords=stopwords)"
   ]
  },
  {
   "cell_type": "markdown",
   "metadata": {},
   "source": [
    "### 1) Key Sentences"
   ]
  },
  {
   "cell_type": "code",
   "execution_count": 13,
   "metadata": {},
   "outputs": [],
   "source": [
    "keysents = textrank.summarize(sents, topk=10)"
   ]
  },
  {
   "cell_type": "code",
   "execution_count": 14,
   "metadata": {},
   "outputs": [
    {
     "data": {
      "text/plain": [
       "['Companies need toe data-driven enterprises—cloud-enabled organizations that can maximize the value of data, and treat it as an asset differentiated by pleteness, lineage, and quality.',\n",
       " 'In fact, according to one report, 5 quintillion bytes of data are created every day around the world.1 Butpanies making effective use of their own customer and operational datapetitive advantage Certainly organizations acknowledge the value of data, and are using more sophisticated technology to capture it.',\n",
       " 'In an Accenture study entitled, From Bottom Line to Front Line, we found that high-performing organizations are seeing a significant increase in the demand for data and analytics, from sources In fact, we are seeing an increased demand for data across entire lines of business.4 In Accentures experience, data-driven organizations are outperformingpetitors in An Accenture study5 revealed a direct correlation between high performance anding what we call a data-driven enterprisepany that can use the cloud as a catalyst for maximizing the value of data, and treating it as an asset differentiated bypleteness and quality.',\n",
       " 'panies use data as the basis for innovation, business agility, and critical business decision-making through artificial intelligence and analytics to improve effectiveness, reduce risk and drive new sources of revenue.',\n",
       " 'Data-driven businesses embed cloud-based data and predictive analytics at their core.',\n",
       " 'This can enable data capture in real time, reduce processing time , and accelerate businesses.6 Most organizations, however, started their data transformation with on-premise computing, then gradually moved transactional data to the cloud only for specific requirements.',\n",
       " 'A well-designed data fabric on the cloud can give businesses the much-needed scalability, enterprise flexibility and trustworthy, data-powered insights for smarter and fasteres.',\n",
       " 'Flexible, future-ready design Discovers cloud data platform makes enterprise data accessible to data By leveraging the bination of technology choices and automation techniques, the cloud data platform enables data scientists to spin up their exploration environment, source the needed data and explore advanced models.',\n",
       " 'Organizations should use a best fit architecture approach for adopting data on cloud, based on their level of cloud maturity and their business demands, both present and future.',\n",
       " 'This approach is often needed when an organizations current data platform proves inadequate for analyzing data in real time andpliance and customer service requirements.']"
      ]
     },
     "execution_count": 14,
     "metadata": {},
     "output_type": "execute_result"
    }
   ],
   "source": [
    "keysents"
   ]
  },
  {
   "cell_type": "markdown",
   "metadata": {},
   "source": [
    " "
   ]
  },
  {
   "cell_type": "markdown",
   "metadata": {},
   "source": [
    "### 2) Keywords"
   ]
  },
  {
   "cell_type": "code",
   "execution_count": 15,
   "metadata": {},
   "outputs": [],
   "source": [
    "keywords = textrank.keywords(sents, topk=20)"
   ]
  },
  {
   "cell_type": "code",
   "execution_count": 16,
   "metadata": {},
   "outputs": [
    {
     "data": {
      "text/plain": [
       "['datas',\n",
       " 'business',\n",
       " 'cloud',\n",
       " 'organization',\n",
       " 'customers',\n",
       " 'kddis',\n",
       " 'analytics',\n",
       " 'require',\n",
       " 'reduced',\n",
       " 'insight',\n",
       " 'accentures',\n",
       " 'service',\n",
       " 'companies',\n",
       " 'makes',\n",
       " 'discovers',\n",
       " 'timing',\n",
       " 'largest mobile',\n",
       " 'value',\n",
       " 'policing',\n",
       " 'high']"
      ]
     },
     "execution_count": 16,
     "metadata": {},
     "output_type": "execute_result"
    }
   ],
   "source": [
    "keywords"
   ]
  },
  {
   "cell_type": "code",
   "execution_count": null,
   "metadata": {},
   "outputs": [],
   "source": []
  }
 ],
 "metadata": {
  "kernelspec": {
   "display_name": "TensorFlow",
   "language": "python",
   "name": "tf-py36"
  },
  "language_info": {
   "codemirror_mode": {
    "name": "ipython",
    "version": 3
   },
   "file_extension": ".py",
   "mimetype": "text/x-python",
   "name": "python",
   "nbconvert_exporter": "python",
   "pygments_lexer": "ipython3",
   "version": "3.6.10"
  }
 },
 "nbformat": 4,
 "nbformat_minor": 4
}
