{
 "cells": [
  {
   "cell_type": "markdown",
   "metadata": {},
   "source": [
    "# TextRank Test v01"
   ]
  },
  {
   "cell_type": "markdown",
   "metadata": {},
   "source": [
    " "
   ]
  },
  {
   "cell_type": "markdown",
   "metadata": {},
   "source": [
    "## imports"
   ]
  },
  {
   "cell_type": "code",
   "execution_count": null,
   "metadata": {},
   "outputs": [],
   "source": [
    "%load_ext lab_black"
   ]
  },
  {
   "cell_type": "code",
   "execution_count": 2,
   "metadata": {},
   "outputs": [],
   "source": [
    "import sys\n",
    "\n",
    "sys.path.append(\"..\")"
   ]
  },
  {
   "cell_type": "code",
   "execution_count": 21,
   "metadata": {},
   "outputs": [],
   "source": [
    "import os\n",
    "import re\n",
    "import nltk\n",
    "import numpy as np\n",
    "import pandas as pd\n",
    "import spacy\n",
    "\n",
    "from glob import glob\n",
    "\n",
    "from textrank import TextRank\n",
    "\n",
    "from utils import pdf_to_text\n",
    "from types_ import *\n",
    "\n",
    "# ignore warning\n",
    "import warnings\n",
    "\n",
    "warnings.filterwarnings(action=\"ignore\")"
   ]
  },
  {
   "cell_type": "markdown",
   "metadata": {},
   "source": [
    " "
   ]
  },
  {
   "cell_type": "markdown",
   "metadata": {},
   "source": [
    "## Data Load"
   ]
  },
  {
   "cell_type": "code",
   "execution_count": 4,
   "metadata": {},
   "outputs": [],
   "source": [
    "dir_path = \"../data/en\"\n",
    "file_list = glob(f\"{dir_path}/*.pdf\")"
   ]
  },
  {
   "cell_type": "code",
   "execution_count": null,
   "metadata": {},
   "outputs": [],
   "source": []
  },
  {
   "cell_type": "code",
   "execution_count": 17,
   "metadata": {},
   "outputs": [],
   "source": [
    "# choose sample randomly\n",
    "idx = np.random.randint(0, len(file_list))\n",
    "\n",
    "# Extract Text from PDF\n",
    "sample = file_list[idx]\n",
    "sents = pdf_to_text(sample)"
   ]
  },
  {
   "cell_type": "code",
   "execution_count": 18,
   "metadata": {},
   "outputs": [],
   "source": [
    "# check sentences\n",
    "# sents[:2]"
   ]
  },
  {
   "cell_type": "markdown",
   "metadata": {},
   "source": [
    " "
   ]
  },
  {
   "cell_type": "markdown",
   "metadata": {},
   "source": [
    "## TextRank"
   ]
  },
  {
   "cell_type": "code",
   "execution_count": 22,
   "metadata": {},
   "outputs": [],
   "source": [
    "# stopwords = [\"연합뉴스\", \"기자\", \"서울\", \"뉴스\", \"오후\"]\n",
    "stopwords = nltk.corpus.stopwords.words(\"english\")\n",
    "\n",
    "textrank = TextRank(language=\"en\", tokenizer=None, stopwords=stopwords)"
   ]
  },
  {
   "cell_type": "markdown",
   "metadata": {},
   "source": [
    "### 1) Key Sentences"
   ]
  },
  {
   "cell_type": "code",
   "execution_count": 23,
   "metadata": {},
   "outputs": [],
   "source": [
    "keysents = textrank.summarize(sents, topk=5)"
   ]
  },
  {
   "cell_type": "code",
   "execution_count": 24,
   "metadata": {},
   "outputs": [
    {
     "data": {
      "text/plain": [
       "['Confronting the Challenges of Extreme Weather Executive Summary High-impact weather events around the world areing more frequent and severe, and most electric utilities remain unprepared for the increased operational stress.',\n",
       " 'In fact, despite increased discussion of resilience in executive offices and in industry-focused literature, only about a quarter (24%) of the more than 200 utility executives we surveyed as part of our global Digitally Enabled Grid research survey feel very well-prepared to manage the challenges of extreme weather events.',\n",
       " 'Our survey included executives responsible for networks, smart grid, energy, operations, system planning, distribution, as well as select functional leads.',\n",
       " 'With no standard, broadly accepted definition of resilience in the industry or from regulators, it falls on the utilities 90% of utility executives believe extreme weather poses an increased financial risk to their businesses.',\n",
       " 'To help utilities develop the resilience they need to manage these challenges with confidence, we asked our survey respondents to weigh in on a wide range of questions about the greatest challenges they face with regard to extreme weather.']"
      ]
     },
     "execution_count": 24,
     "metadata": {},
     "output_type": "execute_result"
    }
   ],
   "source": [
    "keysents"
   ]
  },
  {
   "cell_type": "markdown",
   "metadata": {},
   "source": [
    " "
   ]
  },
  {
   "cell_type": "markdown",
   "metadata": {},
   "source": [
    "### 2) Keywords"
   ]
  },
  {
   "cell_type": "code",
   "execution_count": 27,
   "metadata": {},
   "outputs": [],
   "source": [
    "keywords = textrank.keywords(sents, topk=20)"
   ]
  },
  {
   "cell_type": "code",
   "execution_count": 28,
   "metadata": {},
   "outputs": [
    {
     "data": {
      "text/plain": [
       "['resilient',\n",
       " 'utilizing',\n",
       " 'network',\n",
       " 'weather',\n",
       " 'grid',\n",
       " 'operated',\n",
       " 'event',\n",
       " 'news',\n",
       " 'asset',\n",
       " 'customer',\n",
       " 'data',\n",
       " 'restored',\n",
       " 'increases',\n",
       " 'electrical',\n",
       " 'include',\n",
       " 'improves',\n",
       " 'powers',\n",
       " 'outage',\n",
       " 'risks',\n",
       " 'flexible']"
      ]
     },
     "execution_count": 28,
     "metadata": {},
     "output_type": "execute_result"
    }
   ],
   "source": [
    "keywords"
   ]
  },
  {
   "cell_type": "code",
   "execution_count": null,
   "metadata": {},
   "outputs": [],
   "source": []
  }
 ],
 "metadata": {
  "kernelspec": {
   "display_name": "PyTorch",
   "language": "python",
   "name": "pytorch"
  },
  "language_info": {
   "codemirror_mode": {
    "name": "ipython",
    "version": 3
   },
   "file_extension": ".py",
   "mimetype": "text/x-python",
   "name": "python",
   "nbconvert_exporter": "python",
   "pygments_lexer": "ipython3",
   "version": "3.6.10"
  }
 },
 "nbformat": 4,
 "nbformat_minor": 4
}
