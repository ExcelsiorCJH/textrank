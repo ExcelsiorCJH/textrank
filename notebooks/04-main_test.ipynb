{
 "cells": [
  {
   "cell_type": "markdown",
   "metadata": {},
   "source": [
    "# main.py "
   ]
  },
  {
   "cell_type": "markdown",
   "metadata": {},
   "source": [
    " "
   ]
  },
  {
   "cell_type": "code",
   "execution_count": 1,
   "metadata": {},
   "outputs": [],
   "source": [
    "%load_ext lab_black"
   ]
  },
  {
   "cell_type": "code",
   "execution_count": 2,
   "metadata": {},
   "outputs": [],
   "source": [
    "import sys\n",
    "\n",
    "sys.path.append(\"..\")"
   ]
  },
  {
   "cell_type": "code",
   "execution_count": 3,
   "metadata": {},
   "outputs": [],
   "source": [
    "import argparse\n",
    "\n",
    "import numpy as np\n",
    "from textrank import TextRank\n",
    "from utils import get_data"
   ]
  },
  {
   "cell_type": "code",
   "execution_count": 4,
   "metadata": {},
   "outputs": [
    {
     "data": {
      "text/plain": [
       "102"
      ]
     },
     "execution_count": 4,
     "metadata": {},
     "output_type": "execute_result"
    }
   ],
   "source": [
    "np.random.randint(1000)"
   ]
  },
  {
   "cell_type": "code",
   "execution_count": 5,
   "metadata": {},
   "outputs": [],
   "source": [
    "text = 'Twenty-five years of digitization: Ten insights into how to play it right Briefing note Prepared for the Digital Enterprise Show 21–23 May, Madrid May 2019Countries, sectors, and CEOs face an increasingly complex world characterized by the diffusion of new digital technologies, affecting productivity performance while causing disruption. In this world, the rewards for success—and the penalties for failure—are ever greater. In this briefing note, we synthesize ten insights that should help better frame the digital journey through a world that has been radically transformed in the quarter century since the commercial internet emerged with the first browser. 1. Large economic potential is linked to\\xa0digitization—and much of it yet to be\\xa0capturedA range of technologies has been a major source of total productivity growth. In 2018, MGI estimated that an additional $13 trillion could be added to global GDP by 2030 from today through digitization, automation, and AI as these technologies create major new business opportunities and productivity gains are reinvested in economies.3 The insights in this briefing note draw on MGI’s extensive research in recent years on digitization that has looked at the importance of more inclusive infrastructure to broaden access to these technologies and at the emergence of new families of digital technologies including social media, Enterprise 2.0, big data, and artificial intelligence (AI), and how these technologies are being diffused and affect economies, sectors, and firms.1 We illustrate these insights with up-to-date 2018 data from an annual series of global market research surveys conducted since 2015 that explore corporate practices in light of digitization. We have chosen to focus on the business and management aspects of digitization, but acknowledge, as we have made clear in much of our research, that digitization has broader effects notably on the future of work and on societal welfare.2 The way firms use digital technologies on the ground amply demonstrates the productivity dividend that is possible.4 Sectors with a high level of digitization also display the largest productivity growth. Industries that are ahead in digitization tend to be services or sectors that deliver products that are less physical and more immaterial than physical. Other sectors that display more rapid digitization include those with direct consumer links, faster capital turnover, and are more global than local. Among the sectors that are most advanced in digitization are media and finance; among the laggards are pharmaceuticals, and large swaths of manufacturing.Yet, despite advances in new technologies, at the macroeconomic level, productivity growth has been sluggish in developed economies, dropping 1\\x0cto an average of 0.5 percent in the period from 2010 to 2014 from 2.4 percent a decade earlier in the United States and major European economies. This disconnect has popularly been called the “productivity puzzle”. However, the puzzle is solvable. MGI’s analysis finds that there is likely to be a large productivity dividend from digitization, but that it will only appear once companies absorb digital technologies in business workflow practices.5 This takes time. On average, MGI finds that it may take to 2045 for full, worldwide diffusion of emerging smart automation and AI technologies in new use cases. In the case of established digital technologies, even if their adoption accelerates, various uses have proven to be complex and adoption remains slow.6 MGI has quantified the pace of adoption and absorption into organizational practices in the United States, Europe, and China, and found that all three economies are still far from the digital frontier. On average, they have stood at only around 20 percent of the total potential in the ICT sector. Leveraging our most recent 2018 digital survey, we find that digital maturity across ICT-using sectors by traditional incumbent firms is still relatively low, growing thus far to only around 25 percent of the potential (Exhibit\\xa01).7 Only 26 percent of worldwide sales were made through digital channels, only 31 percent of operations volume was being digitally automated, and 25 percent of interactions in supply chains being digitized.8 The largest share of digitization related to the automation of internal operations at 30 percent.9 Clearly, traditional companies have taken their time to fully capture the productivity potential, but it is important that countries, sectors, and firms embrace these technologies in order to compete and perform more effectively.10 Exhibit 1The gap to the digital frontier remains large across industries.Digital frontier gap (100% = ICT frontier), %Revenue generationAutomation and supply chainDigital workforceSignificant driverDrivers of gap113.417.024.325.028.529.731.046.051.0Pharmaceuticals/medical productsBusiness and professional servicesHealthcare systemMediaConsumer packaged goodsFinancial servicesAutomotive and telecom assemblyRetailTravel224.1Average across industry1 Lower than average industry. The McKinsey Digital Survey covered 1,600 firms worldwide, with results unweighted. Source: McKinsey Digital Survey 2018; McKinsey Global Institute analysisMcKinsey Global Institute\\x0c2. Digital superstars are rising far beyond the US big four and China’s big\\xa0three The digital frontier notably comprises large global digital platforms that are fueling the creation of hyperscale businesses—including the US big four of Google, Amazon, Facebook and Apple, and China’s three digital giants Alibaba, Baidu, and Tencent—with levels of labor productivity far higher than observed in traditional businesses.11 Their performance and global scale make them part of a small and ever more concentrated group of firms that are creating value for shareholders above the cost of capital; we define such firms as superstars.12 Nevertheless, our economic world is populated by much more than global platforms—about 200 million corporates. While traditional enterprises have been much slower than these hyperscale digital businesses in building their digital base, one critical and overlooked observation is that there is also a rather large distribution around the average digital maturity of incumbent firms. At one end of the spectrum, more than 20 percent of incumbent companies still have very little, or no, digital engagement; indeed, this percentage can rise to more than 30 percent in less digitized sectors such as automotive (32 percent) and healthcare while the share of nondigital firms is relatively small in the most digitally advanced sectors such as retail (10 percent) or telecom (7 percent). At the other end, there are a few traditional companies that are already generating more digital than traditional cash flows; their emergence is also reminiscent of that of superstar firms.13 In fact, to date, the top ten percent of traditional companies with the largest digital revenue account for up to 80 percent of digital revenue generated in their sector; it is 60 percent in the case of professional services, but over 90 percent in media and telecom (Exhibit\\xa02). There are 50 percent more North American incumbent companies whose main revenue is through digital than in Europe and developing markets. It is evident that large companies more often generate large digital revenue reflecting the fact that they can digitize a broader part of their distribution and revenue. However, this explains only a minor part of the digital intensity at the firm level. Consistent with the fact that digital diffusion takes time and resources to unleash productivity, we find that one-third of incumbent superstar firms has committed large resources to digitization both in terms of capital investment and in terms of developing a digital workforce. They are also early adopters of digital technologies. Seventy percent of these companies achieve higher productivity growth than the average incumbent firm. They are also more than three times more intensively experimenting with new products and new business models linked to digitization. They do Exhibit 2Digital performance is widely distributed with a small number of superstars dominating value created.Top 10 percent contribution to digital revenue by sectors,% Media/telecomFinancial industryRetailAutomotiveHigh-tech servicesProfessional services859593777760Source: McKinsey Digital Survey 2018, McKinsey Global Institute analysis Twenty-five years of digitization: Ten insights into how to play it right   3\\x0cnot hesitate to cannibalize their early businesses. In general, those superstars expand their total revenue growth more proportionately than the extent of digitization of their old revenue streams, suggesting a tendency toward concentration linked to better ways of competing.14 All of this implies that incumbents should not resist, but embrace, digitization or risk being competed away.3. Digital natives are calling the shotsCompetition is not only arising among incumbent peers—fast- and slow-moving—with respect to digitization. Digitization has also produced a large breed of startups commonly called digital natives, which in aggregate are effectively competing with the business of incumbent companies. The United States is ahead of others in channeling money early to digital startups with about $220 per capita of investment compared with just above $120 per capita in Sweden, the highest-spending European country on digital startups. Their rise to prominence is evidenced in the number of such companies whose businesses have attained the $1 billion of value benchmark—so-called unicorns. Of these, 54 percent are based in the United States to date, with 23 percent in China, and 10 percent in Europe.15 The share of startups that reach the unicorn milestone is not large—another superstar effect; only about 2 percent of venture-capital-backed digital natives become unicorns even in the most digitally savvy cities such as Boston, London, San Francisco and Stockholm. In general, a large share of digital natives are still young startups, busy trying to develop scale, while many incumbents are benefiting from large recurrent revenue bases. We estimate that, by 2018, digital natives may represent about 12 percent of total revenue generated across sectors of developed countries. This is a relatively low share, but these players have reached a tipping point. Their digital revenue is roughly the size of the total digital-only revenue of incumbent firms. Digital startups generate more than half (54 percent) of the total digital revenue of their main industry—but more than 70 percent of digital revenue in sectors such as retail and pharmaceutical products (Exhibit\\xa03).Broadly, the tipping point is linked to the number of digital players flowing into each industry (up to 30 percent of total firms in high tech, but only 3 percent in assembly, for example). However, the largest determinant of the tipping point remains the poor ability of incumbents to digitize their revenue pool. In pharmaceuticals, for instance, only 9 percent of incumbents’ revenue is digital (and therefore only 30 percent of the total digital revenue of the industry), whereas the average high-tech incumbent is already generating more than 50 percent of its revenue through digital channels, services, and new digital products. Exhibit 3A digital tipping point has been reached in most industries.Digital frontier, %High techRetailFinancial servicesTravelMediaBusiness servicesAutomotive and assembly Consumer packaged goodsPharmaceutical and medical products5075100Attackers digital revenue share,%Source: Digital  Survey 2018; McKinsey Global Institute analysis1007550250254McKinsey Global Institute\\x0c4. Digital changes everything—even\\xa0industry boundariesCompetitive pressure induced by digitization is also being felt from outside from new entrants. This effect is still rare, but is developing momentum. Only about 10 percent of incumbents are using digital technologies to diversify outside their main industry. There are large variations, however. The share in media is double this, but in retail banking is half this. However, what diversification does to firms daring to enter new industries is already visible in their finances and in their industries. Among incumbents in our 2018 survey that are diversifying beyond their sector, digital revenue is 25 percent higher than that of the average incumbent. The revenue those diversifying firms generate already account for about 10 percent of total revenue of a sector (on average), and close to 25 percent of the same sector’s digital revenue (Exhibit\\xa04). Digital platforms are a crucial channel for diversification beyond sector borders into what some have called digital ecosystems.16 Firms that are diversifying in this way use these platforms 55 percent more often than incumbent firms remaining within their own sector. In general, this diversification outside firms’ “home” sector provides a clear profitable growth path for incumbents. A classical case in point is PingAn, a Chinese insurance company that was one of the first to digitize, and is now the most valuable insurer in the world. Through digitization, PingAn has started many innovative businesses such as OneConnect, which develops and sells financial technology solutions in sales, risk management, products, services, and operations around the world.17 5. Agile is the new way to competeDigital natives are not only increasing the number of firms that are competing within each sector, but are also competing more profitably than incumbents. In virtually all industries that we have analyzed, digital natives are more agile at developing and scaling businesses—and are also quicker to fail when they do—than incumbents. In general, digital natives make bolder moves such as owning a platform or allocating more capital expenditure to digital plays in adjacent markets. Not all incumbents are slow. The around 20 percent of incumbents that have been bolder than the average are experiencing how powerful such a stance can be. Speed at entering markets for the first time is still relatively rare, but agility can be a particularly profitable strategy during transformations when there is a great deal of uncertainty. Indeed, agile incumbents have higher profits growth than those that are not.18 Companies that integrate product development with their IT operations—commonly known as DevOps—and focus on continuous delivery tend to be more effective when making bold moves to reinvent themselves. In the DevOps approach, teams Exhibit 4Industry boundaries are becoming blurred by digital.Revenue share from adjacent players,%MediaHigh techBusiness servicesFinancial servicesTravelAutomotive and assemblyInsuranceRetailPharmaceutical andmedical productsConsumerpackaged goods1510500Source: McKinsey Global Institute analysis Twenty-five years of digitization: Ten insights into how to play it right   1530Digital revenue share from adjacent players,%455\\x0cautomate tests for software, establish systems that roll back failures in seconds, and make fixes without putting significant parts of the business at risk.19 6. Playing the platform economy isan\\xa0“in the money” optionGiven theories about “platforms beating products”, failing to play this option is risky.20 New MGI research finds that any type of platform play—whether company-owned or third-party, and cooperating or competing with a global platform—can boost earnings, compared with not doing so.21  Nevertheless, developing one’s own platform is challenging because, in a majority of markets, global platforms are already thriving.22 For this reason, leveraging another company’s platform may be the best way to achieve global reach. However, this strategy may put the company in direct competition with thousands of others making the same move, and increase the risk of the platform taking over the company’s franchise. Our new research is clear that incumbent companies that use third-party industry platforms at the same time as cooperating with global, more horizontal ones achieve the highest boost to profit growth. better than owning and competing. Companies that tend to compete are increasing profits more quickly, but this is not only because of the platform; they may be digital first-movers or more innovative than their peers. In the long term, it is likely that their platform posture indirectly reinforces their first-mover leadership compared with others. We have also found that the positive impact on performance is cumulative and builds over time, and can boost profit growth by up to 10 percentage points in just over five years (Exhibit\\xa05). 7. Self-cannibalization and innovationare a necessity for digital reinventionIncumbents have often been cautious about launching digitization programs because they know that a large share of the revenue generated from digital may simply be revenue that the company would have generated anyway; in simple terms, sales arising through digital channels would have had to be made through typical channels. Moreover, digital versions of many products may have lower prices, reducing the profit generated by nondigital sales. This cannibalization may be material at up to 30 percent of their revenue due to digitization. Competing with everyone, including head-on with global platforms, does not optimize profit growth, but still provides a substantial earnings boost. This is not to say that cooperation is automatically Currently, the size of the risk is a touch higher than the average digital revenue share generated by incumbents. This underlines the need for them to reinvent their businesses, developing new markets and products. Exhibit 5A successful platform play can achieve close to 10 percent growth momentumin EBIT in five years.Impact of platform play on profitable growth,1EBIT growth, %Annual compound effectCumulative platform effect2.02.12.12.31.71.1121086420Year 1Year 2Year 3Year 4Year 5Year 61 Difference from no platform play; includes compound effect linked to growth momentum. EBIT = earnings before interest and taxation. Source: McKinsey Digital Survey 2018, McKinsey Global Institute6McKinsey Global Institute\\x0cCurrently, 50 percent of products sold are the same offerings as before, but simply distributed digitally, and 25 percent of the digital revenue of incumbents comes from digitally-enhanced products. Both are at risk of cannibalizing existing product portfolios. Those incumbents that develop new products or diversify into new markets are often companies that are able to bypass the fate of cannibalization and continue to grow. Among superstar incumbents, 40 percent of digital revenue already comes from new products and services. The same phenomenon is visible in more digitized, higher-productivity sectors. For instance 55 percent of digital revenue in high tech comes from new product and services. In contrast, only 17 percent of revenue comes from new products and services in insurance. Providing evidence of a vicious circle, less digitized regions also have a lower share of revenue from entirely new offerings—about 22 percent in developing countries compared with about 35 percent in North America, for instance.8. Going after the right M&A is key Research has shown that 80 percent of a company’s growth is driven by market growth in the industry segments where it competes and 20 percent by revenue gained through mergers and acquisitions.23 Similarly, digital M&A can be a way of getting back into the race for companies that have fallen behind in digitization.24 However, it is not engaging in digital M&A alone that counts, but the nature of companies’ M&A strategy. market capitalization over ten years, or more than 10 percent in three years.25 Another important point to note is that digital M&A matters much more for performance than analog. In fact, analog M&A is often used by incumbents as a way to defend themselves against digitization; however, this type of M&A can only ever be a temporary response to digital disruption, and is an\\xa0opportunity cost for the incumbent.26 So where do firms stand on M&A? Close to 50 percent of large incumbent firms have not invested in M&A over the past three years. It is notable, however, that the average spending on M&A among digital natives and incumbents diversifying beyond their sector boundaries is double the average.Looking specifically at digital M&A, digital natives have spent more than 15 percent of their market capitalization on digital, and, on average, have done two deals over the past three years (Exhibit\\xa06). However, traditional incumbents have devoted 85 percent of their spending on M&A on analog, and barely 3 percent of their market capitalization on digital. Thirty percent of incumbents’ total digital revenue comes from M&A—as it does for digital natives. The difference is that digital natives are aggressively building their digital top line. Seventy percent of the digital revenue from incumbents diversifying into new industries is through acquisitions, reflecting the importance of building scale in order to branch out. Most effective, one analysis suggests, is a program of one M&A deal a year, amounting to M&A that provides at least 30 percent of total In 2018, European and Latin American companies were still shy about acquiring or merging with digital businesses, allocating only about Exhibit 6Digital M&A is a core component of growth momentum.Digital M&A spent per year, % of revenue / market capNumber of digital deals per yearDigital share of M&A spent, %Digital native14.21.779Incumbents moving throughcross-sector digitizationIncumbents with new formsof digitization9.68.71.1481.867Traditional incumbents2.50.727Source: McKinsey Global Institute analysis  Twenty-five years of digitization: Ten insights into how to play it right   7\\x0c16 percent of their M&A investment, compared with 27 percent in North America. High-tech, and telecom and media allocate more than 35 percent to digital M&A, but consumer packaged goods and healthcare less than 10 percent. 9. Effective management of digital transformation is vital—but challenging Even when the right digital strategy is in place, execution is vital. Unfortunately, the evidence suggests that failure to be effective happens five times more often than success. Our recent research suggests that failure to meet digital transformation expectations for profit can be more than 50 percent.27 Exceeding those expectations happens in only about one in ten digital transformations among incumbent firms. The higher incidence of failure than success appears whatever the objectives of digital transformation, and across industries and countries. In fact, failure tends to be higher in digital transformations linked to customer experience, the most common type of transformation. This suggests that there is a genuine management issue that needs to be addressed. Five aspects are simultaneously and jointly critical to the effective management of digital transformation. They are (1) mobilization, which needs shared ownership, accountability, and responsibility (2-3) clarity of commitment on the digital transformation, and sufficient resources devoted to it as a core organizational priority; (4)\\xa0the right investment in the technical talent needed in data analytics and digital, with chief analytic and digital officers playing a supervisory role; and (5) anchoring all this in flexibility and agility; if initiatives prove difficult to scale, withdraw funding for them. Companies need to hit all these aspects to increase their odds of exceeding the intention and ambition of the digital transformation to above 50 percent. Yet today barely 10 percent of incumbents are delivering on all five (Exhibit\\xa07).Exhibit 7Five key themes improve the odds of successful digital transformation (DT).Management themes affecting the oddsof digital transformation Effect on increasing success, %Effect on reducing failure, %Shared responsibility11MobilizationOwn accountabilityShared accountabilityChief analytical officerChief digital officerClarity of digital themesHard to reverseOpex share devoted to DTDT is top priorityNS31292321253334291510788833691145NOTE: NS: the effect of AI is not statistically significant.Source: McKinsey Global Institute analysis Talent managementTransparencyCommitmentAgilityTotal effect8McKinsey Global Institute\\x0c10. Leveraging, and transitioning from, digital to new frontier technologies is an imperativeThe next wave of digitization is coming through\\xa0new frontier technologies including general ledger technologies like blockchain, automation, and a large set of smart, artificial-intelligence (AI)-based technologies. Europe was a pioneer here with the first autonomous car, a German Mercedes; 35 percent of deep learning models were developed in Europe.28 However, Europe’s leadership in this sphere appears to have been short-lived. China is already attracting 50 percent of global investment in AI startups according to CB insights, ahead of the United States. Europe’s diffusion of AI lags behind that of the United States in domains such as advanced neuronal algorithms, and voice and video recognition tools; the only type of AI technology where Europe does not lag behind the United States is smart robotics. While AI is on the minds of every executive, these technologies are still nascent. In 2018, only 12 percent of companies appear to have invested in AI in every functional domain where the business case for deploying AI appears to be very strong. The share appears to range from a low 7 percent among healthcare companies to a high of 18 percent in high tech. Early digitization is the foundation of AI deployment, Consider that 70 percent of companies that generate 50 percent of their sales through digitization are already investing in one AI domain (Exhibit\\xa08). The evidence suggests that incumbents that have adopted AI early and are savvy about deploying these technologies have experienced strong profit growth. In effect AI is a new, higher-performance type of digital technology that may boost the ability of firms to accelerate their digital performance.29 Choosing not to invest and use AI is already proving to put major pressure on firms’ financial performance. In professional services and retail, companies that do not deploy AI are reporting digital cash flows that are 15 to 20 percent lower than their AI-embracing peers.30 In financial services, the gap is 30 percent, and in high-tech, a very substantial 80 percent. These figures demonstrate not only that the gap between the performance of nonadopters and adopters is large, but it is even more substantial in sectors that are more digitized and globalized, and require a higher share of cognitive skills—high tech being an example. MGI analysis of several hundred AI use cases provides evidence of widespread benefits to operations and profitability from AI adoption. But what type of use of AI is likely to be most effective? To date, most frequent successes are seen in AI deployment in marketing and sales, and supply chains—although hospitals and healthcare appear to be exceptions because of concerns about sharing confidential patient information, which limits access to data for use in AI solutions. Use cases in marketing and sales Exhibit 8Digitization is the backbone of AI adoption.AI maturity,%1007550250Share of firms investedin all AI domainsShare of firms investedin at least one AI domain05101520 25 303540 45 50 55 60 65 70 75808590Digital maturity,% of digital in total revenueSource: McKinsey Digital Survey 2018, McKinsey Global Institute Twenty-five years of digitization: Ten insights into how to play it right   9\\x0cincluded “next product to buy” personalization through aggregating user data to understand individual customers preferences. For supply-chain management, AI use cases include using real-time data to predict hyper-regional demand trends, and also to conduct field force scheduling and optimization. An automotive company deploying AI can achieve a 20 percent bounce in digital cash in marketing and sales; in retail, we have seen a 32 percent boost. In high tech, the incremental gain is 15 percent in marketing and sales and 32 percent in supply chains (Exhibit\\xa09). AI may be today’s buzzword, but this is a new area to master if companies, sectors, and economies are to thrive in the future. The journey to digitization started a quarter of a century ago, but remains an ever-present challenge that needs to be met for success. Authors: Jacques Bughin is a McKinsey senior partner and MGI director in Brussels. James Manyika is a McKinsey senior partner, and director and chairman of MGI based in San Francisco. Tanguy\\xa0Catlin is a McKinsey senior partner in Boston. Exhibit 9AI significantly improves companies’ performance especially in global, high-skill, and intangible industries. Impact on digital cashflow, %Local focus, medium skill requirementGlobal focus, high skill requirementRetailHigh tech 32483215Intangibleassets NSNSSalesSupply chainOther manufacturingSalesSupply chainOther manufacturingAI functional domainsAI functional domainsHospitalsAutomotiveNSNSNS2025NS-80No AI-20No AISalesSupply chainOther manufacturingSalesSupply chainOther manufacturingAI functional domainsAI functional domainsNOTE: Based on an instrumental regression of AI adoption on corporate digital and total cashflow. NS: the effect of AI is not statistically significant. Source: McKinsey Digital Survey 2018; McKinsey Global Institute analysis-15No AI-31No AITangibleassets 10McKinsey Global Institute\\x0cFurther MGI readingA future that works: Automation, employment, and productivity, January 2017.Artificial intelligence: The next digital frontier? June\\xa02017.Big data: The next frontier for innovation, competition, and productivity, May 2011.Digital America: A tale of the haves and have-mores, December\\xa02015.Digital China: Powering the economy to global competitiveness, December 2017.Digital Europe: Pushing the frontier, capturing the benefits, June\\xa02016.Notes from the AI frontier: Applying AI for social good, December\\xa02018.Notes from the AI frontier: Insights from hundreds of use cases, April 2018.Notes from the AI frontier: Modeling the impact of AI on the world economy, September 2018.Notes from the AI frontier: Tackling Europe’s gap in digital and AI, February 2019.Solving the productivity puzzle: The role of demand and the promise of digitization, February 2018. Superstars; The dynamics of firms, sectors, and cities leading the global economy, October 2018.Testing the resilience of Europe’s inclusive growth model, December 2018. The age of analytics: Competing in a data-driven world, December\\xa02016.Endnotes1  Jacques Bughin, “The power laws of Enterprise 2.0,” Chapter 3 in In Lee, ed, Encyclopedia of E-Business Development and Management in the Global Economy, Hershey, PA: USA, IGI Global, February 2010; Jacques Bughin and James Manyika, “Bubble or Paradigm Change? Assessing the Global Diffusion of “Enterprise 2.0”” in A. Koohang et al (eds), Knowledge Management: Research & Application, Santa Rose, Informing Science Press, 2008. 2  Jacques Bughin, Marrying artificial intelligence and the sustainable development goals: The global economic impact of AI, ITU News, October 12, 2018.3  Assessing the economic impact of artificial intelligence, ITUTrends, Issue Paper No. 1, September 2018.4  A large set of studies at firm level provide evidence that digital ICT delivers a large boost. See Juha-Miikka Nurmilaakso, “ICT solutions and labor productivity: evidence from firm-level data,” Electronic Commerce Research, 9(3), September 2009; Sinan Aral, Erik Brynjolfsson, and Marshall Van Alstyne, Information, technology, and information worker productivity, Information Systems Research, March 12, 2012; and Jacques Bughin, Tanguy Catlin, Bryce Hall, and Nicolas van Zeebroeck, “Improving Your Digital Intelligence,” MIT Sloan Management Review, October 20, 2017. For more on new families of technology, see Jacques Bughin, “Big data Big bang?” Journal of Big Data, 3:2, 2016; Nicolaus Henke, Jacques Bughin, and Michael Chui, “Most industries are nowhere close to realizing the potential of analytics,” Harvard Business Review, December 16, 2016; and Georg Graetz and Guy Michaels, “Robots at work,” Review of Economics and Statistics, Volume 100, Issue 5, December 2018.5  M. Cardone, T. Kretschmer, and T. Strobel, “The contribution of ICDT to productivity – key conclusions from surveying the empirical literature,” Information Economics and Policy, 25, 2013; Rinaldo Evangelista, Paolo Guerrieri, and Valentina Meliciani, “The economic impact of digital technologies in Europe,” Economics of Innovation and New Technology, Volume 23, Issue 8, 2014; and Martin Mühleisen, “The long and short of the digital revolution,” Finance & Development, Vol. 55, No. 2, June 2018. For other evidence, see Dan Andrews et al., Going digital: What determines technology diffusion among firms? Background paper, The 3rd annual conference of the Global Forum on Productivity, Ottawa, Canada, June 2018.6  The typical observation is that technology takes time to spread globally; for instance, it took more than 40 years for the first car to be used in most countries. See Diego and Bart Hobijn, “Cross-country technology adoption: making the theories face the facts,” Journal of Monetary Economics, vol. 51, issue 1, 2004. In general, however, the adoption rates of new technologies have decreased significantly in recent years with the newest technologies only needing a few years to diffuse in all countries. What is more crucial for the impact of technology on productivity is the integration of that technology into new workflow and business practices. See Jacques Bughin, “The power laws of Enterprise 2.0,” Chapter 3 in In Lee, ed, Encyclopedia of E-Business Development and Management in the Global Economy, Hershey, PA: USA, IGI Global, February 2010; and Matthias Diermeier and Henry Goecke, “Productivity, technology diffusion and digitization,” CESifo Forum, Volume 18, January 2017. 7  A winning operating model for digital strategy, McKinsey Digital, January 2019.8  Jacques Bughin and Tanguy Catlin, “3 digital strategies for companies that have fallen behind,” Harvard Business Review, February\\xa012,\\xa02019.9  A winning operating model for digital strategy, McKinsey Digital, January 2019.10  Jacques Bughin, Laura LaBerge, and Anette Mellbye, “The case for digital reinvention,” McKinsey Quarterly, February 2017.11 In 1990, the top three automakers in Detroit had among them nominal revenues of $250 billion, a market capitalization of $36 billion, and 1.2 million employees. By contrast, the top three companies in Silicon Valley in 2014 had nominal revenues of $247 billion, a market capitalization of over $1 trillion, and only 137,000 employees. See Michael Chui and James Manyika, “Competition at the digital edge: ‘Hyperscale’ businesses,” McKinsey Quarterly, March 2015.12  Superstars; The dynamics of firms, sectors, and cities leading the global economy, October 2018.13  Productivity Growth in the Digital Age, OECD, February 2019.14  Ibid.15  The state of European tech 2018, 2018, Atomico. https://2018.stateofeuropeantech.com/. 16  Winning in digital ecosystems, Digital McKinsey, January 2018; and Venkat Atluri, Miklós Gábor Dietz, and Nicolaus Henke, Competing in a world without borders,” McKinsey Quarterly, July 2017.17  See “How PingAn became one of the world’s most valuable companies,” and “The platform economy: $60 trillion to flow through digital ecosystems,” both in The Innovator, Les Echos, #09, January 2019.18  Jacques Bughin and Tanguy Caitlin, “3 Digital Strategies for Companies That Have Fallen Behind,” Harvard Business Review, February\\xa012,\\xa02019.19  Satty Bhens, Ling Lau, and Shahar Markovitch, Finding the speed to innovate, McKinsey & Company, April 201520  Geoffrey Parker, Marshall Van Alstyne, and Sangeet Choudary, Platform Revolution: How Networked Markets Are Transforming the Economy—and How to Make Them Work for You, W.W. Norton Y Company, April 1, 2016.21  Jacques Bughin, Tanguy Catlin, and Miklós Dietz, \"The right digital-platform strategy,\" McKinsey Quarterly, Number 2, 2019.22  Jacques Bughin and Nicolas Van Zeebroeck, “New evidence for the power of digital platforms,” McKinsey Quarterly, August 2017.23  Mehrdad Baghai, Sven Smit, and Patirck Viguerie, “The granularity of growth,” McKinsey Quarterly, May 2007.24  Jacques Bughin and Tanguy Catlin, “3 digital strategies for companies that have fallen behind,” Harvard Business Review, February\\xa012,\\xa02019.25  Chris Bradley, Martin Hirt, and Sven Smit, Strategy Beyond the Hockey Stick: People, Probabilities, and Big Moves to Beat the Odds, 26  Jacques Bughin and Tanguy Caitlin, “3 Digital Strategies for Companies That Have Fallen Behind,” Harvard Business Review, John Wiley & Sons March 16, 2018.February\\xa012,\\xa02019.27  Jacques Bughin and Tanguy Catlin, “3 digital strategies for companies that have fallen behind,” Harvard Business Review, February\\xa012,\\xa02019; and A winning operating model for digital strategy, McKinsey Digital, January 2019.28  See Jürgen Schmidhuber’s home page (http://people.idsia.ch/~juergen/). 29  The research was conducted by June 2018, and compiles results from 1600 C-suite executives. Our definition of AI in the survey is related to a set of technologies that can operate cognitive tasks at the same or higher levels than humans. The set of technologies we surveyed are of three types: smart robotics, functional software like computer vision and virtual assistance, and deep learning analytic software.30  Higher percentage concerns total revenue and not only that derived from digital. Twenty-five years of digitization: Ten insights into how to play it right   11\\x0cMcKinsey Global Institute May 2019 Copyright © McKinsey & Company Designed by the McKinsey Global institutewww.mckinsey.com  @McKinsey   @McKinsey \\x0c'"
   ]
  },
  {
   "cell_type": "code",
   "execution_count": 17,
   "metadata": {},
   "outputs": [],
   "source": [
    "# split into sentences\n",
    "from nltk import sent_tokenize\n",
    "from nltk.corpus import stopwords"
   ]
  },
  {
   "cell_type": "code",
   "execution_count": 19,
   "metadata": {},
   "outputs": [],
   "source": [
    "stopwords = stopwords.words(\"english\")\n",
    "stopwords += [\",\", \"-\", \":\", \";\", \"!\", \"?\", \"'\", '\"']"
   ]
  },
  {
   "cell_type": "code",
   "execution_count": 9,
   "metadata": {},
   "outputs": [],
   "source": [
    "sents = sent_tokenize(text)"
   ]
  },
  {
   "cell_type": "code",
   "execution_count": 20,
   "metadata": {},
   "outputs": [],
   "source": [
    "textrank = TextRank(min_count=5, tokenizer=None, stopwords=stopwords)"
   ]
  },
  {
   "cell_type": "code",
   "execution_count": 21,
   "metadata": {},
   "outputs": [],
   "source": [
    "keysents = textrank.summarize(sents)"
   ]
  },
  {
   "cell_type": "code",
   "execution_count": 22,
   "metadata": {},
   "outputs": [],
   "source": [
    "# keysents"
   ]
  },
  {
   "cell_type": "code",
   "execution_count": 25,
   "metadata": {},
   "outputs": [],
   "source": [
    "keywords = textrank.keywords(sents, 20)"
   ]
  },
  {
   "cell_type": "code",
   "execution_count": 26,
   "metadata": {},
   "outputs": [
    {
     "data": {
      "text/plain": [
       "['digital',\n",
       " 'insights',\n",
       " 'twenty-five',\n",
       " 'digitization:',\n",
       " 'percent',\n",
       " 'jacques',\n",
       " 'mckinsey',\n",
       " 'play',\n",
       " 'right',\n",
       " 'february',\n",
       " 'business',\n",
       " 'exhibit',\n",
       " '25',\n",
       " 'ten',\n",
       " '“the',\n",
       " 'm&a',\n",
       " 'institute',\n",
       " 'companies',\n",
       " 'years',\n",
       " 'bughin,']"
      ]
     },
     "execution_count": 26,
     "metadata": {},
     "output_type": "execute_result"
    }
   ],
   "source": [
    "keywords"
   ]
  },
  {
   "cell_type": "code",
   "execution_count": null,
   "metadata": {},
   "outputs": [],
   "source": []
  }
 ],
 "metadata": {
  "kernelspec": {
   "display_name": "PyTorch",
   "language": "python",
   "name": "pytorch"
  },
  "language_info": {
   "codemirror_mode": {
    "name": "ipython",
    "version": 3
   },
   "file_extension": ".py",
   "mimetype": "text/x-python",
   "name": "python",
   "nbconvert_exporter": "python",
   "pygments_lexer": "ipython3",
   "version": "3.6.10"
  }
 },
 "nbformat": 4,
 "nbformat_minor": 4
}
